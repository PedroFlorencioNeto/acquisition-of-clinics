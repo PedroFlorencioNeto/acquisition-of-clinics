{
  "cells": [
    {
      "cell_type": "markdown",
      "metadata": {
        "id": "view-in-github",
        "colab_type": "text"
      },
      "source": [
        "<a href=\"https://colab.research.google.com/github/PedroFlorencioNeto/acquisition-of-clinics/blob/main/notebooks/20231113_ClinicasEDA.ipynb\" target=\"_parent\"><img src=\"https://colab.research.google.com/assets/colab-badge.svg\" alt=\"Open In Colab\"/></a>"
      ]
    },
    {
      "cell_type": "markdown",
      "metadata": {
        "id": "CMqL1Ddr2w5G"
      },
      "source": [
        "![](https://drive.google.com/uc?export=view&id=147ISZNwW7pfykfUtl_5kln6Q2R5JEsGl)"
      ]
    },
    {
      "cell_type": "markdown",
      "metadata": {
        "id": "bVoz3quGsvDM"
      },
      "source": [
        "---\n",
        "\n",
        "<h3><center> <b>Análise Estratégica da Aquisição de Clientes: O Caso da Empresa Real</b>\n",
        "\n",
        "Mentoria - Renata Biaggi</center></h3>\n",
        "\n",
        "Este notebook apresenta um estudo sobre [...]\n",
        "\n",
        "**Autor:** Pedro Florencio de Almeida Neto - Cientista de Dados\n",
        "\n",
        "<i>pedroflorencio@alu.ufc.br</i>\n",
        "\n",
        "---"
      ]
    },
    {
      "cell_type": "markdown",
      "metadata": {
        "id": "SfEzhCUNsvDT"
      },
      "source": [
        "**Objetivo:** Apresentar as principais métricas relacionadas à aquisição de clínicas, de forma a identificar gargalos e oportunidades para otimizar a entrada de clínicas na empresa Real.\n",
        "\n",
        "<br>**Perguntas Norteadoras:**<br>\n",
        "\n",
        "<b>P.N.1.</b> Lorem Ipsum Lorem Ipsum Lorem Ipsum Lorem Ipsum Lorem Ipsum Lorem Ipsum\n",
        "* Lorem Ipsum Lorem Ipsum Lorem Ipsum Lorem Ipsum ?\n",
        "* Lorem Ipsum Lorem Ipsum Lorem Ipsum Lorem Ipsum Lorem Ipsum Lorem Ipsum ?\n",
        "* Lorem Ipsum Lorem Ipsum Lorem Ipsum ?\n",
        "\n",
        "**Dados Disponibilizados:**\n",
        "* clinics.csv\n",
        "* subscriptions.csv\n",
        "* activity.csv"
      ]
    },
    {
      "cell_type": "markdown",
      "metadata": {
        "id": "wTiNvXb5xdL_"
      },
      "source": [
        "#### **1. Contextualização**\n",
        "\n",
        "A Real constrói uma plataforma de trabalho (SaaS - Software as a Service) focada especificamente em clínicas odontológicas, onde os dentistas e proprietários de clínica encontram todos os serviços necessários para gerir suas operações. O software oferece uma agenda moderna, prontuário eletrônico e ficha de pacientes, além de acesso a gestão financeira entre outros. O fluxo de aquisição de novos clientes funciona assim:\n",
        "- O usuário pode se cadastrar diretamente ou pedir para conversar com um especialista antes disso.\n",
        "- Uma vez cadastrado, ele tem acesso a um período de teste do produto (trial) onde pode usar todas as funcionalidades antes de assinar.\n",
        "- Terminado seu período de testes, ele só poderá usar o produto quando assinar. O foco deste case será entender o período de trial e como ele pode ser melhorado.\n",
        "\n",
        "Uma das funcionalidades mais populares do produto é o Financiamento Real, onde a Real financia o tratamento de um paciente sem riscos para a clínica, e o paciente paga para a Real em até 36 vezes (basicamente funcionando como um empréstimo). Este produto também é conhecido internamente como Buy now, pay later (BNPL).\n",
        "\n",
        "Desta forma, deve ser mencionada a existência do credenciamento. O processo de credenciamento é uma validação de identidade da clínica, que a Real faz antes de aprovar ela para o uso do financiamento. É um processo anti-fraude e que nos permite avaliar de maneira mais assertiva os riscos de realizar financiamentos para clientes dessa clínica.\n",
        "\n",
        "> <b>Datasets</b>\n",
        "<br>Os arquivos incluem as clínicas que se cadastraram nos meses de Agosto e Setembro de 2023, e suas interações até a data de extração (18/10/2023).\n",
        "\n",
        "-  A tabela <b>clinics</b> contém informações sobre as clínicas cadastradas e alguns marcos temporais delas, como trial e credenciamento. Aqui vale citar que a Real possui algumas parcerias com grandes redes e franquias de clínicas odontológicas pelo Brasil (diferenciadas das outras por colunas como business_segmentation e is_chain_clinic . Essas clínicas usam apenas o Financiamento Real, e desta forma devem ser removidas de análises sobre conversão de assinaturas.\n",
        "\n",
        "- A tabela <b>subscriptions</b> contém informações de assinaturas de clínicas. A assinatura é definida como o início de um esquema de pagamentos recorrentes, possuindo início, data de fim (caso tenha sido encerrada) e a recorrência de pagamentos. Se uma clínica começar uma assinatura, encerrar ela e depois voltar a ser assinante, ela terá múltiplas linhas de assinatura.\n",
        "\n",
        "- A tabela <b>activity</b> registra todas as atividades realizadas pela clínica, contendo registros temporais de quando a clínica desempenhou uma determinada ação. Temos diversos tipos de atividades no produto, que por sua vez estão organizadas em níveis hierarquicos para facilitar nosso trabalho com elas. Esses níveis estão disponíveis na tabela ( module , analytics_domain , feature ). As atividades também são divididas entre atividades válidas ou não, por uma questão de conveniência: algumas métricas são calculadas apenas considerando atividades “válidas” e outras não. Esta extração contém apenas atividades realizadas em período de trial."
      ]
    },
    {
      "cell_type": "code",
      "execution_count": null,
      "metadata": {
        "id": "MDPZYbqB4uDl"
      },
      "outputs": [],
      "source": []
    },
    {
      "cell_type": "markdown",
      "metadata": {
        "id": "cptQGspxROOG"
      },
      "source": [
        "#### **2. Bibliotecas**"
      ]
    },
    {
      "cell_type": "code",
      "execution_count": null,
      "metadata": {
        "id": "zYfod0TKsvDW"
      },
      "outputs": [],
      "source": [
        "import numpy as np\n",
        "import pandas as pd\n",
        "import seaborn as sns\n",
        "import matplotlib.pyplot as plt"
      ]
    },
    {
      "cell_type": "markdown",
      "metadata": {
        "id": "RF75TDVlsvDU"
      },
      "source": [
        "#### **3. Aquisição dos Dados**"
      ]
    },
    {
      "cell_type": "code",
      "execution_count": null,
      "metadata": {
        "id": "kHiCiGDy7PUO"
      },
      "outputs": [],
      "source": [
        "df_activity = pd.read_csv('../data/activity.csv')\n",
        "df_clinics = pd.read_csv('../data/clinics.csv')\n",
        "df_subscriptions = pd.read_csv('../data/subscriptions.csv')"
      ]
    },
    {
      "cell_type": "markdown",
      "metadata": {
        "id": "_7mNqW64svDb"
      },
      "source": [
        "#### **4. Entendimento dos Dados**"
      ]
    },
    {
      "cell_type": "code",
      "execution_count": null,
      "metadata": {
        "colab": {
          "base_uri": "https://localhost:8080/",
          "height": 206
        },
        "id": "sgQlo4dPXydA",
        "outputId": "6045eae3-5543-418f-81c1-c8b521ad413c"
      },
      "outputs": [
        {
          "data": {
            "text/html": [
              "<div>\n",
              "<style scoped>\n",
              "    .dataframe tbody tr th:only-of-type {\n",
              "        vertical-align: middle;\n",
              "    }\n",
              "\n",
              "    .dataframe tbody tr th {\n",
              "        vertical-align: top;\n",
              "    }\n",
              "\n",
              "    .dataframe thead th {\n",
              "        text-align: right;\n",
              "    }\n",
              "</style>\n",
              "<table border=\"1\" class=\"dataframe\">\n",
              "  <thead>\n",
              "    <tr style=\"text-align: right;\">\n",
              "      <th></th>\n",
              "      <th>CLINIC_ID</th>\n",
              "      <th>ACTIVITY_AT</th>\n",
              "      <th>ACTIVITY_TYPE</th>\n",
              "      <th>FEATURE</th>\n",
              "      <th>MODULE</th>\n",
              "      <th>ANALYTICS_DOMAIN</th>\n",
              "      <th>IS_TRANSACTION</th>\n",
              "      <th>IS_BNPL_ACTIVITY</th>\n",
              "      <th>IS_VALID_ACTIVITY</th>\n",
              "      <th>IS_DELETION_ACTIVITY</th>\n",
              "      <th>IS_MANAGEMENT_ACTIVITY</th>\n",
              "      <th>IS_FINANCE_ACTIVITY</th>\n",
              "    </tr>\n",
              "  </thead>\n",
              "  <tbody>\n",
              "    <tr>\n",
              "      <th>0</th>\n",
              "      <td>9825</td>\n",
              "      <td>2023-08-24 18:46:47.733</td>\n",
              "      <td>patient_discarded</td>\n",
              "      <td>patient_management</td>\n",
              "      <td>patient</td>\n",
              "      <td>patient</td>\n",
              "      <td>False</td>\n",
              "      <td>False</td>\n",
              "      <td>True</td>\n",
              "      <td>True</td>\n",
              "      <td>True</td>\n",
              "      <td>False</td>\n",
              "    </tr>\n",
              "    <tr>\n",
              "      <th>1</th>\n",
              "      <td>9984</td>\n",
              "      <td>2023-08-24 19:41:43.497</td>\n",
              "      <td>patient_created</td>\n",
              "      <td>patient_management</td>\n",
              "      <td>patient</td>\n",
              "      <td>patient</td>\n",
              "      <td>False</td>\n",
              "      <td>False</td>\n",
              "      <td>False</td>\n",
              "      <td>False</td>\n",
              "      <td>True</td>\n",
              "      <td>False</td>\n",
              "    </tr>\n",
              "    <tr>\n",
              "      <th>2</th>\n",
              "      <td>9984</td>\n",
              "      <td>2023-08-24 19:41:44.037</td>\n",
              "      <td>time_slot_created</td>\n",
              "      <td>scheduling</td>\n",
              "      <td>schedule</td>\n",
              "      <td>scheduling</td>\n",
              "      <td>False</td>\n",
              "      <td>False</td>\n",
              "      <td>True</td>\n",
              "      <td>False</td>\n",
              "      <td>True</td>\n",
              "      <td>False</td>\n",
              "    </tr>\n",
              "    <tr>\n",
              "      <th>3</th>\n",
              "      <td>9984</td>\n",
              "      <td>2023-08-24 19:51:20.451</td>\n",
              "      <td>patient_created</td>\n",
              "      <td>patient_management</td>\n",
              "      <td>patient</td>\n",
              "      <td>patient</td>\n",
              "      <td>False</td>\n",
              "      <td>False</td>\n",
              "      <td>False</td>\n",
              "      <td>False</td>\n",
              "      <td>True</td>\n",
              "      <td>False</td>\n",
              "    </tr>\n",
              "    <tr>\n",
              "      <th>4</th>\n",
              "      <td>9984</td>\n",
              "      <td>2023-08-24 19:51:46.663</td>\n",
              "      <td>time_slot_created</td>\n",
              "      <td>scheduling</td>\n",
              "      <td>schedule</td>\n",
              "      <td>scheduling</td>\n",
              "      <td>False</td>\n",
              "      <td>False</td>\n",
              "      <td>True</td>\n",
              "      <td>False</td>\n",
              "      <td>True</td>\n",
              "      <td>False</td>\n",
              "    </tr>\n",
              "  </tbody>\n",
              "</table>\n",
              "</div>"
            ],
            "text/plain": [
              "   CLINIC_ID              ACTIVITY_AT      ACTIVITY_TYPE             FEATURE  \\\n",
              "0       9825  2023-08-24 18:46:47.733  patient_discarded  patient_management   \n",
              "1       9984  2023-08-24 19:41:43.497    patient_created  patient_management   \n",
              "2       9984  2023-08-24 19:41:44.037  time_slot_created          scheduling   \n",
              "3       9984  2023-08-24 19:51:20.451    patient_created  patient_management   \n",
              "4       9984  2023-08-24 19:51:46.663  time_slot_created          scheduling   \n",
              "\n",
              "     MODULE ANALYTICS_DOMAIN  IS_TRANSACTION  IS_BNPL_ACTIVITY  \\\n",
              "0   patient          patient           False             False   \n",
              "1   patient          patient           False             False   \n",
              "2  schedule       scheduling           False             False   \n",
              "3   patient          patient           False             False   \n",
              "4  schedule       scheduling           False             False   \n",
              "\n",
              "   IS_VALID_ACTIVITY  IS_DELETION_ACTIVITY  IS_MANAGEMENT_ACTIVITY  \\\n",
              "0               True                  True                    True   \n",
              "1              False                 False                    True   \n",
              "2               True                 False                    True   \n",
              "3              False                 False                    True   \n",
              "4               True                 False                    True   \n",
              "\n",
              "   IS_FINANCE_ACTIVITY  \n",
              "0                False  \n",
              "1                False  \n",
              "2                False  \n",
              "3                False  \n",
              "4                False  "
            ]
          },
          "execution_count": 9,
          "metadata": {},
          "output_type": "execute_result"
        }
      ],
      "source": [
        "df_activity.head()"
      ]
    },
    {
      "cell_type": "code",
      "execution_count": null,
      "metadata": {
        "id": "3NFxLp-M9e50",
        "outputId": "ac54e856-704d-437d-a5f5-f205e610bbbc"
      },
      "outputs": [
        {
          "name": "stdout",
          "output_type": "stream",
          "text": [
            "<class 'pandas.core.frame.DataFrame'>\n",
            "RangeIndex: 13941 entries, 0 to 13940\n",
            "Data columns (total 12 columns):\n",
            " #   Column                  Non-Null Count  Dtype \n",
            "---  ------                  --------------  ----- \n",
            " 0   CLINIC_ID               13941 non-null  int64 \n",
            " 1   ACTIVITY_AT             13941 non-null  object\n",
            " 2   ACTIVITY_TYPE           13941 non-null  object\n",
            " 3   FEATURE                 13941 non-null  object\n",
            " 4   MODULE                  13941 non-null  object\n",
            " 5   ANALYTICS_DOMAIN        13941 non-null  object\n",
            " 6   IS_TRANSACTION          13941 non-null  bool  \n",
            " 7   IS_BNPL_ACTIVITY        13941 non-null  bool  \n",
            " 8   IS_VALID_ACTIVITY       13941 non-null  bool  \n",
            " 9   IS_DELETION_ACTIVITY    13941 non-null  bool  \n",
            " 10  IS_MANAGEMENT_ACTIVITY  13941 non-null  bool  \n",
            " 11  IS_FINANCE_ACTIVITY     13941 non-null  bool  \n",
            "dtypes: bool(6), int64(1), object(5)\n",
            "memory usage: 735.3+ KB\n"
          ]
        }
      ],
      "source": [
        "df_activity.info()"
      ]
    },
    {
      "cell_type": "code",
      "execution_count": null,
      "metadata": {
        "id": "knIPnR5D9e50",
        "outputId": "6d6dda46-7c70-4633-c6f5-dd92cea8a103"
      },
      "outputs": [
        {
          "data": {
            "text/html": [
              "<div>\n",
              "<style scoped>\n",
              "    .dataframe tbody tr th:only-of-type {\n",
              "        vertical-align: middle;\n",
              "    }\n",
              "\n",
              "    .dataframe tbody tr th {\n",
              "        vertical-align: top;\n",
              "    }\n",
              "\n",
              "    .dataframe thead th {\n",
              "        text-align: right;\n",
              "    }\n",
              "</style>\n",
              "<table border=\"1\" class=\"dataframe\">\n",
              "  <thead>\n",
              "    <tr style=\"text-align: right;\">\n",
              "      <th></th>\n",
              "      <th>CLINIC_ID</th>\n",
              "      <th>CLINIC_CREATED_AT</th>\n",
              "      <th>BUSINESS_SEGMENTATION</th>\n",
              "      <th>IS_CHAIN_CLINIC</th>\n",
              "      <th>FIRST_USER_HUBSPOT_SOURCE</th>\n",
              "      <th>INTEREST_REASONS</th>\n",
              "      <th>INTEREST_CATEGORY_SIGNUP</th>\n",
              "      <th>HAS_INTEREST_BNPL</th>\n",
              "      <th>HAS_INTEREST_BNPL_ONLY</th>\n",
              "      <th>HAS_INTEREST_SAAS</th>\n",
              "      <th>...</th>\n",
              "      <th>IS_PAID_MEDIUM</th>\n",
              "      <th>HAS_ASKED_FOR_ACCREDITATION</th>\n",
              "      <th>HAS_STARTED_ACCREDITATION_AND_NOT_FINISHED</th>\n",
              "      <th>IS_ACCREDITATION_APPROVED</th>\n",
              "      <th>IS_ACCREDITATION_REPROVED</th>\n",
              "      <th>CLINIC_ACCREDITATION_STATUS</th>\n",
              "      <th>REQUEST_FINISHED_AT</th>\n",
              "      <th>ACCREDITATION_REQUESTED_AT</th>\n",
              "      <th>ACCREDITATION_APPROVED_AT</th>\n",
              "      <th>ACCREDITATION_REJECTED_AT</th>\n",
              "    </tr>\n",
              "  </thead>\n",
              "  <tbody>\n",
              "    <tr>\n",
              "      <th>0</th>\n",
              "      <td>8993</td>\n",
              "      <td>2023-08-01 06:25:16.121</td>\n",
              "      <td>Independente</td>\n",
              "      <td>False</td>\n",
              "      <td>Inbound</td>\n",
              "      <td>[\"bnpl\", \"finance_management\", \"patients_manag...</td>\n",
              "      <td>BNPL e SaaS</td>\n",
              "      <td>True</td>\n",
              "      <td>False</td>\n",
              "      <td>True</td>\n",
              "      <td>...</td>\n",
              "      <td>True</td>\n",
              "      <td>False</td>\n",
              "      <td>False</td>\n",
              "      <td>False</td>\n",
              "      <td>False</td>\n",
              "      <td>NaN</td>\n",
              "      <td>NaN</td>\n",
              "      <td>NaN</td>\n",
              "      <td>NaN</td>\n",
              "      <td>NaN</td>\n",
              "    </tr>\n",
              "    <tr>\n",
              "      <th>1</th>\n",
              "      <td>8994</td>\n",
              "      <td>2023-08-01 06:58:36.251</td>\n",
              "      <td>Independente</td>\n",
              "      <td>False</td>\n",
              "      <td>Inbound</td>\n",
              "      <td>[\"finance_management\", \"patients_management\", ...</td>\n",
              "      <td>BNPL e SaaS</td>\n",
              "      <td>True</td>\n",
              "      <td>False</td>\n",
              "      <td>True</td>\n",
              "      <td>...</td>\n",
              "      <td>True</td>\n",
              "      <td>False</td>\n",
              "      <td>False</td>\n",
              "      <td>False</td>\n",
              "      <td>False</td>\n",
              "      <td>NaN</td>\n",
              "      <td>NaN</td>\n",
              "      <td>NaN</td>\n",
              "      <td>NaN</td>\n",
              "      <td>NaN</td>\n",
              "    </tr>\n",
              "    <tr>\n",
              "      <th>2</th>\n",
              "      <td>8995</td>\n",
              "      <td>2023-08-01 06:59:23.156</td>\n",
              "      <td>Independente</td>\n",
              "      <td>False</td>\n",
              "      <td>Inbound</td>\n",
              "      <td>[\"bnpl\"]</td>\n",
              "      <td>Apenas BNPL</td>\n",
              "      <td>True</td>\n",
              "      <td>True</td>\n",
              "      <td>False</td>\n",
              "      <td>...</td>\n",
              "      <td>True</td>\n",
              "      <td>False</td>\n",
              "      <td>False</td>\n",
              "      <td>False</td>\n",
              "      <td>False</td>\n",
              "      <td>NaN</td>\n",
              "      <td>NaN</td>\n",
              "      <td>NaN</td>\n",
              "      <td>NaN</td>\n",
              "      <td>NaN</td>\n",
              "    </tr>\n",
              "    <tr>\n",
              "      <th>3</th>\n",
              "      <td>8996</td>\n",
              "      <td>2023-08-01 08:03:38.557</td>\n",
              "      <td>Independente</td>\n",
              "      <td>False</td>\n",
              "      <td>Inbound</td>\n",
              "      <td>[\"calendar\", \"bnpl\", \"patients_management\", \"f...</td>\n",
              "      <td>BNPL e SaaS</td>\n",
              "      <td>True</td>\n",
              "      <td>False</td>\n",
              "      <td>True</td>\n",
              "      <td>...</td>\n",
              "      <td>True</td>\n",
              "      <td>False</td>\n",
              "      <td>False</td>\n",
              "      <td>False</td>\n",
              "      <td>False</td>\n",
              "      <td>NaN</td>\n",
              "      <td>NaN</td>\n",
              "      <td>NaN</td>\n",
              "      <td>NaN</td>\n",
              "      <td>NaN</td>\n",
              "    </tr>\n",
              "    <tr>\n",
              "      <th>4</th>\n",
              "      <td>8997</td>\n",
              "      <td>2023-08-01 08:34:33.894</td>\n",
              "      <td>Independente</td>\n",
              "      <td>False</td>\n",
              "      <td>Inbound</td>\n",
              "      <td>[\"patients_management\"]</td>\n",
              "      <td>Apenas SaaS</td>\n",
              "      <td>False</td>\n",
              "      <td>False</td>\n",
              "      <td>True</td>\n",
              "      <td>...</td>\n",
              "      <td>True</td>\n",
              "      <td>False</td>\n",
              "      <td>False</td>\n",
              "      <td>False</td>\n",
              "      <td>False</td>\n",
              "      <td>NaN</td>\n",
              "      <td>NaN</td>\n",
              "      <td>NaN</td>\n",
              "      <td>NaN</td>\n",
              "      <td>NaN</td>\n",
              "    </tr>\n",
              "  </tbody>\n",
              "</table>\n",
              "<p>5 rows × 33 columns</p>\n",
              "</div>"
            ],
            "text/plain": [
              "   CLINIC_ID        CLINIC_CREATED_AT BUSINESS_SEGMENTATION  IS_CHAIN_CLINIC  \\\n",
              "0       8993  2023-08-01 06:25:16.121          Independente            False   \n",
              "1       8994  2023-08-01 06:58:36.251          Independente            False   \n",
              "2       8995  2023-08-01 06:59:23.156          Independente            False   \n",
              "3       8996  2023-08-01 08:03:38.557          Independente            False   \n",
              "4       8997  2023-08-01 08:34:33.894          Independente            False   \n",
              "\n",
              "  FIRST_USER_HUBSPOT_SOURCE  \\\n",
              "0                   Inbound   \n",
              "1                   Inbound   \n",
              "2                   Inbound   \n",
              "3                   Inbound   \n",
              "4                   Inbound   \n",
              "\n",
              "                                    INTEREST_REASONS INTEREST_CATEGORY_SIGNUP  \\\n",
              "0  [\"bnpl\", \"finance_management\", \"patients_manag...              BNPL e SaaS   \n",
              "1  [\"finance_management\", \"patients_management\", ...              BNPL e SaaS   \n",
              "2                                           [\"bnpl\"]              Apenas BNPL   \n",
              "3  [\"calendar\", \"bnpl\", \"patients_management\", \"f...              BNPL e SaaS   \n",
              "4                            [\"patients_management\"]              Apenas SaaS   \n",
              "\n",
              "   HAS_INTEREST_BNPL  HAS_INTEREST_BNPL_ONLY  HAS_INTEREST_SAAS  ...  \\\n",
              "0               True                   False               True  ...   \n",
              "1               True                   False               True  ...   \n",
              "2               True                    True              False  ...   \n",
              "3               True                   False               True  ...   \n",
              "4              False                   False               True  ...   \n",
              "\n",
              "   IS_PAID_MEDIUM HAS_ASKED_FOR_ACCREDITATION  \\\n",
              "0            True                       False   \n",
              "1            True                       False   \n",
              "2            True                       False   \n",
              "3            True                       False   \n",
              "4            True                       False   \n",
              "\n",
              "  HAS_STARTED_ACCREDITATION_AND_NOT_FINISHED  IS_ACCREDITATION_APPROVED  \\\n",
              "0                                      False                      False   \n",
              "1                                      False                      False   \n",
              "2                                      False                      False   \n",
              "3                                      False                      False   \n",
              "4                                      False                      False   \n",
              "\n",
              "  IS_ACCREDITATION_REPROVED  CLINIC_ACCREDITATION_STATUS REQUEST_FINISHED_AT  \\\n",
              "0                     False                          NaN                 NaN   \n",
              "1                     False                          NaN                 NaN   \n",
              "2                     False                          NaN                 NaN   \n",
              "3                     False                          NaN                 NaN   \n",
              "4                     False                          NaN                 NaN   \n",
              "\n",
              "   ACCREDITATION_REQUESTED_AT ACCREDITATION_APPROVED_AT  \\\n",
              "0                         NaN                       NaN   \n",
              "1                         NaN                       NaN   \n",
              "2                         NaN                       NaN   \n",
              "3                         NaN                       NaN   \n",
              "4                         NaN                       NaN   \n",
              "\n",
              "  ACCREDITATION_REJECTED_AT  \n",
              "0                       NaN  \n",
              "1                       NaN  \n",
              "2                       NaN  \n",
              "3                       NaN  \n",
              "4                       NaN  \n",
              "\n",
              "[5 rows x 33 columns]"
            ]
          },
          "execution_count": 11,
          "metadata": {},
          "output_type": "execute_result"
        }
      ],
      "source": [
        "df_clinics.head()"
      ]
    },
    {
      "cell_type": "code",
      "execution_count": null,
      "metadata": {
        "id": "tKnZDsEq9e51",
        "outputId": "97d7be8b-58c2-463c-b8f9-8c9f9a13c257"
      },
      "outputs": [
        {
          "name": "stdout",
          "output_type": "stream",
          "text": [
            "<class 'pandas.core.frame.DataFrame'>\n",
            "RangeIndex: 2219 entries, 0 to 2218\n",
            "Data columns (total 33 columns):\n",
            " #   Column                                      Non-Null Count  Dtype \n",
            "---  ------                                      --------------  ----- \n",
            " 0   CLINIC_ID                                   2219 non-null   int64 \n",
            " 1   CLINIC_CREATED_AT                           2219 non-null   object\n",
            " 2   BUSINESS_SEGMENTATION                       2219 non-null   object\n",
            " 3   IS_CHAIN_CLINIC                             2219 non-null   bool  \n",
            " 4   FIRST_USER_HUBSPOT_SOURCE                   2219 non-null   object\n",
            " 5   INTEREST_REASONS                            2066 non-null   object\n",
            " 6   INTEREST_CATEGORY_SIGNUP                    2219 non-null   object\n",
            " 7   HAS_INTEREST_BNPL                           2219 non-null   bool  \n",
            " 8   HAS_INTEREST_BNPL_ONLY                      2219 non-null   bool  \n",
            " 9   HAS_INTEREST_SAAS                           2219 non-null   bool  \n",
            " 10  TRIAL_DURATION                              2219 non-null   int64 \n",
            " 11  TRIAL_START_DATE                            2219 non-null   object\n",
            " 12  TRIAL_END_DATE                              2219 non-null   object\n",
            " 13  TRIAL_START_HOUR                            2219 non-null   int64 \n",
            " 14  TRIAL_START_HOUR_CATEGORY                   2219 non-null   object\n",
            " 15  TRIAL_START_DAY_OF_WEEK                     2219 non-null   int64 \n",
            " 16  TRIAL_START_DAY_OF_WEEK_CATEGORY            2219 non-null   object\n",
            " 17  HAS_USER_CREATED                            2219 non-null   bool  \n",
            " 18  MARKETING_ATTRIBUITION                      2219 non-null   object\n",
            " 19  MARKETING_ATTRIBUITION_CHANNEL_GROUP        2219 non-null   object\n",
            " 20  MARKETING_ATTRIBUITION_CAMPAIGN             1475 non-null   object\n",
            " 21  MARKETING_ATTRIBUITION_CAMPAIGN_PRODUCT     1468 non-null   object\n",
            " 22  MARKETING_ATTRIBUITION_AD_GROUP             331 non-null    object\n",
            " 23  IS_PAID_MEDIUM                              2219 non-null   bool  \n",
            " 24  HAS_ASKED_FOR_ACCREDITATION                 2219 non-null   bool  \n",
            " 25  HAS_STARTED_ACCREDITATION_AND_NOT_FINISHED  2219 non-null   bool  \n",
            " 26  IS_ACCREDITATION_APPROVED                   2219 non-null   bool  \n",
            " 27  IS_ACCREDITATION_REPROVED                   2219 non-null   bool  \n",
            " 28  CLINIC_ACCREDITATION_STATUS                 958 non-null    object\n",
            " 29  REQUEST_FINISHED_AT                         688 non-null    object\n",
            " 30  ACCREDITATION_REQUESTED_AT                  688 non-null    object\n",
            " 31  ACCREDITATION_APPROVED_AT                   536 non-null    object\n",
            " 32  ACCREDITATION_REJECTED_AT                   175 non-null    object\n",
            "dtypes: bool(10), int64(4), object(19)\n",
            "memory usage: 420.5+ KB\n"
          ]
        }
      ],
      "source": [
        "df_clinics.info()"
      ]
    },
    {
      "cell_type": "code",
      "execution_count": null,
      "metadata": {
        "id": "aiXWOfSO9e51"
      },
      "outputs": [],
      "source": []
    },
    {
      "cell_type": "code",
      "execution_count": null,
      "metadata": {
        "id": "vk9N5e6i9e51"
      },
      "outputs": [],
      "source": []
    },
    {
      "cell_type": "markdown",
      "metadata": {
        "id": "HshkLhe0svDh"
      },
      "source": [
        "#### **5. Pré-Processamento dos Dados**"
      ]
    },
    {
      "cell_type": "code",
      "execution_count": null,
      "metadata": {
        "id": "-rRmnDEu0tjX"
      },
      "outputs": [],
      "source": []
    },
    {
      "cell_type": "markdown",
      "metadata": {
        "id": "ugqYRiZGiiRj"
      },
      "source": [
        "#### **6. Análise Exploratória dos Dados (E.D.A)**"
      ]
    },
    {
      "cell_type": "code",
      "execution_count": null,
      "metadata": {
        "id": "Zn_LkbDD0n6r"
      },
      "outputs": [],
      "source": []
    },
    {
      "cell_type": "markdown",
      "metadata": {
        "id": "qQio_HGA0Yb6"
      },
      "source": [
        "**Obrigado!** 🙂"
      ]
    }
  ],
  "metadata": {
    "colab": {
      "provenance": [],
      "toc_visible": true,
      "include_colab_link": true
    },
    "kernelspec": {
      "display_name": "Python 3",
      "language": "python",
      "name": "python3"
    },
    "language_info": {
      "codemirror_mode": {
        "name": "ipython",
        "version": 3
      },
      "file_extension": ".py",
      "mimetype": "text/x-python",
      "name": "python",
      "nbconvert_exporter": "python",
      "pygments_lexer": "ipython3",
      "version": "3.8.2"
    },
    "orig_nbformat": 4
  },
  "nbformat": 4,
  "nbformat_minor": 0
}